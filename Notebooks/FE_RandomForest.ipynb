{
  "nbformat": 4,
  "nbformat_minor": 0,
  "metadata": {
    "colab": {
      "name": "FE_RandomForest.ipynb",
      "provenance": [],
      "collapsed_sections": []
    },
    "kernelspec": {
      "name": "python3",
      "display_name": "Python 3"
    },
    "language_info": {
      "name": "python"
    }
  },
  "cells": [
    {
      "cell_type": "code",
      "source": [
        "# mounting the google drive where the data csv files downloaded\n",
        "from google.colab import drive\n",
        "drive.mount('/gdrive')\n",
        "%cd /gdrive"
      ],
      "metadata": {
        "colab": {
          "base_uri": "https://localhost:8080/"
        },
        "id": "MLByKRIRck9Y",
        "outputId": "759933ed-3a97-4bd6-b566-16727a108165"
      },
      "execution_count": 1,
      "outputs": [
        {
          "output_type": "stream",
          "name": "stdout",
          "text": [
            "Mounted at /gdrive\n",
            "/gdrive\n"
          ]
        }
      ]
    },
    {
      "cell_type": "code",
      "source": [
        "import pandas as pd\n",
        "import numpy as np\n",
        "import matplotlib.pyplot as plt\n",
        "import seaborn as sns\n",
        "import os,gc\n",
        "from sklearn.linear_model import LogisticRegression\n",
        "from sklearn.metrics import roc_auc_score,roc_curve,auc,confusion_matrix\n",
        "from sklearn.model_selection import RandomizedSearchCV\n",
        "import xgboost as xgb\n",
        "import time\n",
        "plt.style.use('seaborn-whitegrid')\n",
        "import warnings\n",
        "warnings.simplefilter(\"ignore\")\n",
        "colors = [x['color'] for x in plt.rcParams['axes.prop_cycle']]\n",
        "import itertools"
      ],
      "metadata": {
        "id": "wsq23fYPcppL"
      },
      "execution_count": 2,
      "outputs": []
    },
    {
      "cell_type": "code",
      "source": [
        "train_data = pd.read_csv(\"/gdrive/My Drive/AIML/Project/train_combined.csv\")\n",
        "test_data = pd.read_csv(\"/gdrive/My Drive/AIML/Project/test_combined.csv\")"
      ],
      "metadata": {
        "id": "_wQwq5MrTqTz"
      },
      "execution_count": 3,
      "outputs": []
    },
    {
      "cell_type": "code",
      "source": [
        "red_col = ['V1', 'V104', 'V107', 'V108', 'V11', 'V111', 'V115', 'V117', 'V120', 'V121', 'V123', 'V124', 'V127', 'V129', 'V13', 'V130', 'V136', 'V138', 'V139', 'V14', 'V142', 'V147', 'V156', 'V160', 'V162', 'V165', 'V166', 'V169', 'V17', 'V171', 'V173', 'V175', 'V176', 'V178', 'V180', 'V182', 'V185', 'V187', 'V188', 'V198', 'V20', 'V203', 'V205', 'V207', 'V209', 'V210', 'V215', 'V218', 'V220', 'V221', 'V223', 'V224', 'V226', 'V228', 'V229', 'V23', 'V234', 'V235', 'V238', 'V240', 'V250', 'V252', 'V253', 'V257', 'V258', 'V26', 'V260', 'V261', 'V264', 'V266', 'V267', 'V27', 'V271', 'V274', 'V277', 'V281', 'V283', 'V284', 'V285', 'V286', 'V289', 'V291', 'V294', 'V296', 'V297', 'V3', 'V30', 'V301', 'V303', 'V305', 'V307', 'V309', 'V310', 'V314', 'V320', 'V325', 'V332', 'V335', 'V338', 'V36', 'V37', 'V4', 'V40', 'V41', 'V44', 'V47', 'V48', 'V54', 'V55', 'V56', 'V59', 'V6', 'V62', 'V65', 'V67', 'V68', 'V70', 'V76', 'V78', 'V8', 'V80', 'V82', 'V86', 'V88', 'V89', 'V91', 'V96', 'V98', 'V99']\n",
        "# droping v cols \n",
        "drop_cols = [col for col in train_data.columns if col[0] == 'V' and col not in red_col]"
      ],
      "metadata": {
        "id": "viP9yF8VRo2Z"
      },
      "execution_count": 4,
      "outputs": []
    },
    {
      "cell_type": "code",
      "source": [
        "print(f'dropping {len(drop_cols)} columns')\n",
        "train_data = train_data.drop(columns=drop_cols)\n",
        "test_data = test_data.drop(columns=drop_cols)"
      ],
      "metadata": {
        "colab": {
          "base_uri": "https://localhost:8080/"
        },
        "id": "7whuqQbwRxWe",
        "outputId": "bb8651d6-ca64-4f25-8d80-2ef2a4e58871"
      },
      "execution_count": 5,
      "outputs": [
        {
          "output_type": "stream",
          "name": "stdout",
          "text": [
            "dropping 210 columns\n"
          ]
        }
      ]
    },
    {
      "cell_type": "code",
      "source": [
        "useful_cols = [col for col in train_data.columns if col not in (\"isFraud\",\"TransactionID_x\", \"TransactionID_y\", \"TransactionDT\")]\n",
        "print(len(useful_cols))\n",
        "\n",
        "y_train = train_data['isFraud']\n",
        "train_data = train_data.drop(columns='isFraud')\n",
        "test_data.columns = [col for col in train_data.columns]\n",
        "x_test = test_data[useful_cols].reset_index(drop=True)\n",
        "x_train = train_data[useful_cols].reset_index(drop=True)\n",
        "\n",
        "print(x_train.shape)\n",
        "print(x_test.shape)\n",
        "gc.collect()"
      ],
      "metadata": {
        "colab": {
          "base_uri": "https://localhost:8080/"
        },
        "id": "ExljphZ9nZvf",
        "outputId": "93f2a085-47fd-4c38-8213-7109dc0d28b4"
      },
      "execution_count": 6,
      "outputs": [
        {
          "output_type": "stream",
          "name": "stdout",
          "text": [
            "221\n",
            "(590540, 221)\n",
            "(506691, 221)\n"
          ]
        },
        {
          "output_type": "execute_result",
          "data": {
            "text/plain": [
              "0"
            ]
          },
          "metadata": {},
          "execution_count": 6
        }
      ]
    },
    {
      "cell_type": "code",
      "source": [
        "category_cols = x_train.select_dtypes(include=['object']).columns\n",
        "type_map = {c: str for c in category_cols}\n",
        "x_train[category_cols] = x_train[category_cols].astype(type_map, copy=False)\n",
        "x_test[category_cols] = x_test[category_cols].astype(type_map, copy=False)\n",
        "\n",
        "for col in category_cols:\n",
        "    # label encode all cat columns\n",
        "    dff = pd.concat([x_train[col],x_test[col]])\n",
        "    dff,_ = pd.factorize(dff,sort=True)\n",
        "    if dff.max()>32000: \n",
        "        print(col,'needs int32 datatype')\n",
        "           \n",
        "    x_train[col] = dff[:len(x_train)].astype('int16')\n",
        "    x_test[col] = dff[len(x_train):].astype('int16')\n",
        "del dff"
      ],
      "metadata": {
        "id": "ScM5vXNLpwrS"
      },
      "execution_count": 7,
      "outputs": []
    },
    {
      "cell_type": "code",
      "source": [
        "# Scaling numeric features\n",
        "for col in useful_cols:\n",
        "    if col not in category_cols:\n",
        "        # min max scalar\n",
        "        dff = pd.concat([x_train[col],x_test[col]])\n",
        "        dff = (dff - dff.min())/(dff.max() - dff.min())\n",
        "        dff.fillna(-1,inplace=True)\n",
        "\n",
        "        x_train[col] = dff[:len(x_train)]\n",
        "        x_test[col] = dff[len(x_train):]\n",
        "\n",
        "del dff\n",
        "\n",
        "print(f'fitting model on {len(useful_cols)} columns')\n",
        "x_train.fillna(-1,inplace=True)\n",
        "x_test.fillna(-1,inplace=True)"
      ],
      "metadata": {
        "colab": {
          "base_uri": "https://localhost:8080/"
        },
        "id": "4K000SIHVu_h",
        "outputId": "0643215f-820f-4883-bac5-46f370753dbc"
      },
      "execution_count": 8,
      "outputs": [
        {
          "output_type": "stream",
          "name": "stdout",
          "text": [
            "fitting model on 221 columns\n"
          ]
        }
      ]
    },
    {
      "cell_type": "code",
      "source": [
        "from sklearn.ensemble import RandomForestClassifier\n",
        "\n",
        "idx = int(x_train.shape[0] * 0.8)\n",
        "print(idx)\n",
        "\n",
        "idx_tr = x_train.index[:idx]  \n",
        "idx_val = x_train.index[idx:]\n",
        "\n",
        "clf = RandomForestClassifier(class_weight='balanced', criterion='entropy',\n",
        "                       max_depth=19, min_samples_leaf=58, min_samples_split=129,\n",
        "                       n_estimators=115, n_jobs=-1, random_state=2022)\n",
        "\n",
        "model = clf.fit(x_train.loc[idx_tr,useful_cols], y_train[idx_tr])"
      ],
      "metadata": {
        "colab": {
          "base_uri": "https://localhost:8080/"
        },
        "id": "2QZwZLNJonWU",
        "outputId": "51226d8f-4022-40b9-b2c4-935e33eb1799"
      },
      "execution_count": 12,
      "outputs": [
        {
          "output_type": "stream",
          "name": "stdout",
          "text": [
            "472432\n"
          ]
        }
      ]
    },
    {
      "cell_type": "code",
      "source": [
        "def plot_confusion_matrix(y_actual, y_pred):\n",
        "    #Get the confusion matrix, Precision & Re-call\n",
        "    conf_matrix = confusion_matrix(y_actual, y_pred)\n",
        "    recal_matrix =(((conf_matrix.T)/(conf_matrix.sum(axis=1))).T)        \n",
        "    prec_matrix =(conf_matrix/conf_matrix.sum(axis=0))\n",
        "\n",
        "    group_names = ['True Neg','False Pos','False Neg','True Pos']\n",
        "    group_counts = [\"{0:0.0f}\".format(value) for value in\n",
        "                    conf_matrix.flatten()]\n",
        "    group_percentages = [\"{0:.2%}\".format(value) for value in\n",
        "                        conf_matrix.flatten()/np.sum(conf_matrix)]\n",
        "    labels = [f\"{v1}\\n{v2}\\n{v3}\" for v1, v2, v3 in\n",
        "              zip(group_names,group_counts,group_percentages)]\n",
        "    labels = np.asarray(labels).reshape(2,2)\n",
        "\n",
        "    plt.figure(figsize=(20,4))\n",
        "    plt.subplot(1, 3, 1)\n",
        "    sns.heatmap(conf_matrix, annot=labels, fmt='', cmap='Blues')\n",
        "    plt.xlabel('Predicted Class')\n",
        "    plt.ylabel('Original Class')\n",
        "    plt.title(\"Confusion matrix\")\n",
        "\n",
        "    plt.subplot(1, 3, 2)\n",
        "    sns.heatmap(prec_matrix, annot=True, fmt='.3f', cmap='Blues')\n",
        "    plt.xlabel('Predicted Class')\n",
        "    plt.ylabel('Original Class')\n",
        "    plt.title(\"Precision matrix\")\n",
        "\n",
        "    plt.subplot(1, 3, 3)\n",
        "    sns.heatmap(recal_matrix, annot=True, fmt='.3f', cmap='Blues')\n",
        "    plt.xlabel('Predicted Class')\n",
        "    plt.ylabel('Original Class')\n",
        "    plt.title(\"Recall matrix\")\n",
        "\n",
        "    plt.show()"
      ],
      "metadata": {
        "id": "xHMMqmIJpRJN"
      },
      "execution_count": 13,
      "outputs": []
    },
    {
      "cell_type": "code",
      "source": [
        "y_train_pred = model.predict(x_train.iloc[idx_tr])\n",
        "y_test_pred = model.predict(x_train.iloc[idx_val])\n",
        "\n",
        "y_train_act = y_train.iloc[idx_tr]\n",
        "y_test_act = y_train.iloc[idx_val]\n",
        "\n",
        "ROC_score = roc_auc_score(y_train_act, y_train_pred)\n",
        "print('Train ROC Score: ', ROC_score)\n",
        "\n",
        "ROC_score = roc_auc_score(y_test_act, y_test_pred)\n",
        "print('Test ROC Score: ', ROC_score)\n",
        "\n",
        "print('Test confusion_matrix')\n",
        "plot_confusion_matrix(y_test_act, y_test_pred)"
      ],
      "metadata": {
        "colab": {
          "base_uri": "https://localhost:8080/",
          "height": 343
        },
        "id": "hqwI1Q5WdXNT",
        "outputId": "34eb953a-dfad-4fa3-a2d1-e337d9694c3f"
      },
      "execution_count": 14,
      "outputs": [
        {
          "output_type": "stream",
          "name": "stdout",
          "text": [
            "Train ROC Score:  0.8732273136076976\n",
            "Test ROC Score:  0.7892823458179009\n",
            "Test confusion_matrix\n"
          ]
        },
        {
          "output_type": "display_data",
          "data": {
            "image/png": "[encoded data removed]",
            "text/plain": [
              "<Figure size 1440x288 with 6 Axes>"
            ]
          },
          "metadata": {}
        }
      ]
    },
    {
      "cell_type": "code",
      "source": [
        "y_pred_test = model.predict_proba(x_test)[:,1]\n",
        "submission = {}\n",
        "submission.update(dict(zip(test_data['TransactionID_x'],y_pred_test)))\n",
        "submission = pd.DataFrame.from_dict(submission, orient=\"index\").reset_index()\n",
        "submission.columns = [\"TransactionID\", \"isFraud\"]\n",
        "submission.to_csv('/gdrive/My Drive/AIML/Project/submission2.csv',index=False)\n",
        "submission.head()"
      ],
      "metadata": {
        "colab": {
          "base_uri": "https://localhost:8080/",
          "height": 206
        },
        "id": "Jldt2Mt6qw95",
        "outputId": "0925c0c7-2dc3-4ec3-f2fe-c74436200e8e"
      },
      "execution_count": 15,
      "outputs": [
        {
          "output_type": "execute_result",
          "data": {
            "text/html": [
              "\n",
              "  <div id=\"df-90846d36-0de7-4eb3-8f8d-191b9ce68e17\">\n",
              "    <div class=\"colab-df-container\">\n",
              "      <div>\n",
              "<style scoped>\n",
              "    .dataframe tbody tr th:only-of-type {\n",
              "        vertical-align: middle;\n",
              "    }\n",
              "\n",
              "    .dataframe tbody tr th {\n",
              "        vertical-align: top;\n",
              "    }\n",
              "\n",
              "    .dataframe thead th {\n",
              "        text-align: right;\n",
              "    }\n",
              "</style>\n",
              "<table border=\"1\" class=\"dataframe\">\n",
              "  <thead>\n",
              "    <tr style=\"text-align: right;\">\n",
              "      <th></th>\n",
              "      <th>TransactionID</th>\n",
              "      <th>isFraud</th>\n",
              "    </tr>\n",
              "  </thead>\n",
              "  <tbody>\n",
              "    <tr>\n",
              "      <th>0</th>\n",
              "      <td>3663549</td>\n",
              "      <td>0.113211</td>\n",
              "    </tr>\n",
              "    <tr>\n",
              "      <th>1</th>\n",
              "      <td>3663550</td>\n",
              "      <td>0.146745</td>\n",
              "    </tr>\n",
              "    <tr>\n",
              "      <th>2</th>\n",
              "      <td>3663551</td>\n",
              "      <td>0.263801</td>\n",
              "    </tr>\n",
              "    <tr>\n",
              "      <th>3</th>\n",
              "      <td>3663552</td>\n",
              "      <td>0.073871</td>\n",
              "    </tr>\n",
              "    <tr>\n",
              "      <th>4</th>\n",
              "      <td>3663553</td>\n",
              "      <td>0.115061</td>\n",
              "    </tr>\n",
              "  </tbody>\n",
              "</table>\n",
              "</div>\n",
              "      <button class=\"colab-df-convert\" onclick=\"convertToInteractive('df-90846d36-0de7-4eb3-8f8d-191b9ce68e17')\"\n",
              "              title=\"Convert this dataframe to an interactive table.\"\n",
              "              style=\"display:none;\">\n",
              "        \n",
              "  <svg xmlns=\"http://www.w3.org/2000/svg\" height=\"24px\"viewBox=\"0 0 24 24\"\n",
              "       width=\"24px\">\n",
              "    <path d=\"M0 0h24v24H0V0z\" fill=\"none\"/>\n",
              "    <path d=\"M18.56 5.44l.94 2.06.94-2.06 2.06-.94-2.06-.94-.94-2.06-.94 2.06-2.06.94zm-11 1L8.5 8.5l.94-2.06 2.06-.94-2.06-.94L8.5 2.5l-.94 2.06-2.06.94zm10 10l.94 2.06.94-2.06 2.06-.94-2.06-.94-.94-2.06-.94 2.06-2.06.94z\"/><path d=\"M17.41 7.96l-1.37-1.37c-.4-.4-.92-.59-1.43-.59-.52 0-1.04.2-1.43.59L10.3 9.45l-7.72 7.72c-.78.78-.78 2.05 0 2.83L4 21.41c.39.39.9.59 1.41.59.51 0 1.02-.2 1.41-.59l7.78-7.78 2.81-2.81c.8-.78.8-2.07 0-2.86zM5.41 20L4 18.59l7.72-7.72 1.47 1.35L5.41 20z\"/>\n",
              "  </svg>\n",
              "      </button>\n",
              "      \n",
              "  <style>\n",
              "    .colab-df-container {\n",
              "      display:flex;\n",
              "      flex-wrap:wrap;\n",
              "      gap: 12px;\n",
              "    }\n",
              "\n",
              "    .colab-df-convert {\n",
              "      background-color: #E8F0FE;\n",
              "      border: none;\n",
              "      border-radius: 50%;\n",
              "      cursor: pointer;\n",
              "      display: none;\n",
              "      fill: #1967D2;\n",
              "      height: 32px;\n",
              "      padding: 0 0 0 0;\n",
              "      width: 32px;\n",
              "    }\n",
              "\n",
              "    .colab-df-convert:hover {\n",
              "      background-color: #E2EBFA;\n",
              "      box-shadow: 0px 1px 2px rgba(60, 64, 67, 0.3), 0px 1px 3px 1px rgba(60, 64, 67, 0.15);\n",
              "      fill: #174EA6;\n",
              "    }\n",
              "\n",
              "    [theme=dark] .colab-df-convert {\n",
              "      background-color: #3B4455;\n",
              "      fill: #D2E3FC;\n",
              "    }\n",
              "\n",
              "    [theme=dark] .colab-df-convert:hover {\n",
              "      background-color: #434B5C;\n",
              "      box-shadow: 0px 1px 3px 1px rgba(0, 0, 0, 0.15);\n",
              "      filter: drop-shadow(0px 1px 2px rgba(0, 0, 0, 0.3));\n",
              "      fill: #FFFFFF;\n",
              "    }\n",
              "  </style>\n",
              "\n",
              "      <script>\n",
              "        const buttonEl =\n",
              "          document.querySelector('#df-90846d36-0de7-4eb3-8f8d-191b9ce68e17 button.colab-df-convert');\n",
              "        buttonEl.style.display =\n",
              "          google.colab.kernel.accessAllowed ? 'block' : 'none';\n",
              "\n",
              "        async function convertToInteractive(key) {\n",
              "          const element = document.querySelector('#df-90846d36-0de7-4eb3-8f8d-191b9ce68e17');\n",
              "          const dataTable =\n",
              "            await google.colab.kernel.invokeFunction('convertToInteractive',\n",
              "                                                     [key], {});\n",
              "          if (!dataTable) return;\n",
              "\n",
              "          const docLinkHtml = 'Like what you see? Visit the ' +\n",
              "            '<a target=\"_blank\" href=https://colab.research.google.com/notebooks/data_table.ipynb>data table notebook</a>'\n",
              "            + ' to learn more about interactive tables.';\n",
              "          element.innerHTML = '';\n",
              "          dataTable['output_type'] = 'display_data';\n",
              "          await google.colab.output.renderOutput(dataTable, element);\n",
              "          const docLink = document.createElement('div');\n",
              "          docLink.innerHTML = docLinkHtml;\n",
              "          element.appendChild(docLink);\n",
              "        }\n",
              "      </script>\n",
              "    </div>\n",
              "  </div>\n",
              "  "
            ],
            "text/plain": [
              "   TransactionID   isFraud\n",
              "0        3663549  0.113211\n",
              "1        3663550  0.146745\n",
              "2        3663551  0.263801\n",
              "3        3663552  0.073871\n",
              "4        3663553  0.115061"
            ]
          },
          "metadata": {},
          "execution_count": 15
        }
      ]
    }
  ]
}